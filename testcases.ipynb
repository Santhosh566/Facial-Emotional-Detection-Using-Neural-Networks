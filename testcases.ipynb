{
 "cells": [
  {
   "cell_type": "markdown",
   "metadata": {},
   "source": [
    "<h1>TEST CASE-1"
   ]
  },
  {
   "cell_type": "code",
   "execution_count": 8,
   "metadata": {},
   "outputs": [
    {
     "name": "stderr",
     "output_type": "stream",
     "text": [
      "."
     ]
    },
    {
     "name": "stdout",
     "output_type": "stream",
     "text": [
      "Test: Failed\n"
     ]
    },
    {
     "name": "stderr",
     "output_type": "stream",
     "text": [
      "."
     ]
    },
    {
     "name": "stdout",
     "output_type": "stream",
     "text": [
      "Test: Failed\n"
     ]
    },
    {
     "name": "stderr",
     "output_type": "stream",
     "text": [
      ".\n",
      "----------------------------------------------------------------------\n",
      "Ran 3 tests in 36.756s\n",
      "\n",
      "OK\n"
     ]
    },
    {
     "name": "stdout",
     "output_type": "stream",
     "text": [
      "Test: Failed\n"
     ]
    }
   ],
   "source": [
    "import unittest\n",
    "import pandas as pd\n",
    "\n",
    "import unittest\n",
    "\n",
    "class TestCSVUpload(unittest.TestCase):\n",
    "    def test_file_upload_format(self):\n",
    "        \"\"\"\n",
    "        Test: Failed\n",
    "        The uploaded file is in .pdf or .txt format or any other format.\n",
    "\n",
    "        Test: Success\n",
    "        The uploaded file is in .csv format.\n",
    "        \"\"\"\n",
    "        # Replace 'uploaded_file_path' with the actual file path of the uploaded file\n",
    "        uploaded_file_path =\"C:\\\\Users\\\\santh\\\\Desktop\\\\fer.pdf\"\n",
    "        # Check the file format\n",
    "        file_extension = uploaded_file_path.split('.')[-1].lower()\n",
    "        if file_extension in ['pdf', 'txt']:\n",
    "            print(\"Test: Failed\")\n",
    "        elif file_extension == 'csv':\n",
    "            print(\"Test: Success\")\n",
    "        else:\n",
    "            print(\"Test: Failed - Unsupported file format\")\n",
    "\n",
    "if __name__ == '__main__':\n",
    "    unittest.main(argv=[''], exit=False)\n",
    "\n"
   ]
  },
  {
   "cell_type": "markdown",
   "metadata": {},
   "source": [
    "TEST CASE-2"
   ]
  },
  {
   "cell_type": "code",
   "execution_count": 7,
   "metadata": {},
   "outputs": [
    {
     "name": "stderr",
     "output_type": "stream",
     "text": [
      "."
     ]
    },
    {
     "name": "stdout",
     "output_type": "stream",
     "text": [
      "Test: Failed\n"
     ]
    },
    {
     "name": "stderr",
     "output_type": "stream",
     "text": [
      "."
     ]
    },
    {
     "name": "stdout",
     "output_type": "stream",
     "text": [
      "Test: Failed\n"
     ]
    },
    {
     "name": "stderr",
     "output_type": "stream",
     "text": [
      ".\n",
      "----------------------------------------------------------------------\n",
      "Ran 3 tests in 31.712s\n",
      "\n",
      "OK\n"
     ]
    },
    {
     "name": "stdout",
     "output_type": "stream",
     "text": [
      "Test: Failed\n"
     ]
    }
   ],
   "source": [
    "import unittest\n",
    "import pandas as pd\n",
    "\n",
    "class TestDatasetColumns(unittest.TestCase):\n",
    "    def test_dataset_columns(self):\n",
    "        \"\"\"\n",
    "        Test: Failed\n",
    "        The dataset does not have the required columns: 'emotion', 'pixels', and 'usage'.\n",
    "\n",
    "        Test: Success\n",
    "        The dataset has the required columns: 'emotion', 'pixels', and 'usage'.\n",
    "        \"\"\"\n",
    "        # Load your CSV dataset into a pandas DataFrame\n",
    "        df = pd.read_csv(\"C:\\\\Users\\\\santh\\\\Desktop\\\\fer.csv\")\n",
    "\n",
    "        # Check if the required columns are present in the dataset\n",
    "        required_columns = ['emotion', 'pixels', 'class']\n",
    "        if all(col in df.columns for col in required_columns):\n",
    "            print(\"Test: Success\")\n",
    "        else:\n",
    "            print(\"Test: Failed\")\n",
    "\n",
    "if __name__ == '__main__':\n",
    "    unittest.main(argv=[''], exit=False)\n"
   ]
  },
  {
   "cell_type": "markdown",
   "metadata": {},
   "source": [
    "TEST CASE-3"
   ]
  },
  {
   "cell_type": "code",
   "execution_count": 6,
   "metadata": {},
   "outputs": [
    {
     "name": "stderr",
     "output_type": "stream",
     "text": [
      "."
     ]
    },
    {
     "name": "stdout",
     "output_type": "stream",
     "text": [
      "Test: Failed\n"
     ]
    },
    {
     "name": "stderr",
     "output_type": "stream",
     "text": [
      "."
     ]
    },
    {
     "name": "stdout",
     "output_type": "stream",
     "text": [
      "Test: Failed\n"
     ]
    },
    {
     "name": "stderr",
     "output_type": "stream",
     "text": [
      ".\n",
      "----------------------------------------------------------------------\n",
      "Ran 3 tests in 16.545s\n",
      "\n",
      "OK\n"
     ]
    },
    {
     "name": "stdout",
     "output_type": "stream",
     "text": [
      "Test: Failed\n"
     ]
    }
   ],
   "source": [
    "import unittest\n",
    "import pandas as pd\n",
    "\n",
    "class TestNumericEmotionLabels(unittest.TestCase):\n",
    "    def test_numeric_emotion_labels(self):\n",
    "        \"\"\"\n",
    "        Test: Failed\n",
    "        The 'emotion' column contains non-numeric values.\n",
    "\n",
    "        Test: Success\n",
    "        The 'emotion' column contains only numeric values.\n",
    "        \"\"\"\n",
    "        # Load your CSV dataset into a pandas DataFrame\n",
    "        df = pd.read_csv(\"C:\\\\Users\\\\santh\\\\Desktop\\\\fer.csv\")\n",
    "\n",
    "        # Check if the 'emotion' column contains only numeric values\n",
    "        if df['emotion'].dtype == 'int64' or df['emotion'].dtype == 'float64':\n",
    "            print(\"Test: Success\")\n",
    "        else:\n",
    "            print(\"Test: Failed\")\n",
    "\n",
    "if __name__ == '__main__':\n",
    "    unittest.main(argv=[''], exit=False)\n"
   ]
  }
 ],
 "metadata": {
  "kernelspec": {
   "display_name": "Python 3",
   "language": "python",
   "name": "python3"
  },
  "language_info": {
   "codemirror_mode": {
    "name": "ipython",
    "version": 3
   },
   "file_extension": ".py",
   "mimetype": "text/x-python",
   "name": "python",
   "nbconvert_exporter": "python",
   "pygments_lexer": "ipython3",
   "version": "3.10.4"
  }
 },
 "nbformat": 4,
 "nbformat_minor": 2
}
